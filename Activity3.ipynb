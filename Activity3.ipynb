{
  "nbformat": 4,
  "nbformat_minor": 0,
  "metadata": {
    "colab": {
      "provenance": [],
      "authorship_tag": "ABX9TyMfbdHCzc+6Ueo+Jm3FuCqq",
      "include_colab_link": true
    },
    "kernelspec": {
      "name": "python3",
      "display_name": "Python 3"
    },
    "language_info": {
      "name": "python"
    }
  },
  "cells": [
    {
      "cell_type": "markdown",
      "metadata": {
        "id": "view-in-github",
        "colab_type": "text"
      },
      "source": [
        "<a href=\"https://colab.research.google.com/github/miankhan143/AI-Lab/blob/main/Activity3.ipynb\" target=\"_parent\"><img src=\"https://colab.research.google.com/assets/colab-badge.svg\" alt=\"Open In Colab\"/></a>"
      ]
    },
    {
      "cell_type": "code",
      "execution_count": null,
      "metadata": {
        "id": "JfvbTbVYtN-d"
      },
      "outputs": [],
      "source": [
        "isPrime = True\n",
        "i=2\n",
        "n=int(input(\"Enter a number: \"))\n",
        "while i<n:\n",
        "    if int remainder==0:\n",
        "        isPrime = False\n",
        "        break\n",
        "    else:\n",
        "        i=i+1\n",
        "if isPrime:\n",
        "    print(\"Number is Prime\")\n",
        "else:\n",
        "    print(\"Number is not Prime\")"
      ]
    }
  ]
}