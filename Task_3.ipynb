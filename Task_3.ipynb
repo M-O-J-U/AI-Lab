{
  "nbformat": 4,
  "nbformat_minor": 0,
  "metadata": {
    "colab": {
      "provenance": [],
      "authorship_tag": "ABX9TyN+yFtAzOXqwOjiHKLeoZFH",
      "include_colab_link": true
    },
    "kernelspec": {
      "name": "python3",
      "display_name": "Python 3"
    },
    "language_info": {
      "name": "python"
    }
  },
  "cells": [
    {
      "cell_type": "markdown",
      "metadata": {
        "id": "view-in-github",
        "colab_type": "text"
      },
      "source": [
        "<a href=\"https://colab.research.google.com/github/miankhan143/AI-Lab/blob/main/Task_3.ipynb\" target=\"_parent\"><img src=\"https://colab.research.google.com/assets/colab-badge.svg\" alt=\"Open In Colab\"/></a>"
      ]
    },
    {
      "cell_type": "code",
      "execution_count": null,
      "metadata": {
        "id": "xBhgqdAaxAoF"
      },
      "outputs": [],
      "source": [
        "#fibonacci\n",
        "def fibonacci(n):\n",
        "    if(n <= 1):\n",
        "        return name\n",
        "    else: \n",
        "        return(fibonacci(n-1) + fibonacci(n-2))\n",
        "n = int(input(\"Enter number of terms: \"))\n",
        "print(\"Fibonacci sequence: \")\n",
        "for i in range(n):\n",
        "    print(fibonacci(i))"
      ]
    }
  ]
}