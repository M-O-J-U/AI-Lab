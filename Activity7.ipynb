{
  "nbformat": 4,
  "nbformat_minor": 0,
  "metadata": {
    "colab": {
      "provenance": [],
      "authorship_tag": "ABX9TyNPEdDCfrdQ6HVGZgDh2pwM",
      "include_colab_link": true
    },
    "kernelspec": {
      "name": "python3",
      "display_name": "Python 3"
    },
    "language_info": {
      "name": "python"
    }
  },
  "cells": [
    {
      "cell_type": "markdown",
      "metadata": {
        "id": "view-in-github",
        "colab_type": "text"
      },
      "source": [
        "<a href=\"https://colab.research.google.com/github/miankhan143/AI-Lab/blob/main/Activity7.ipynb\" target=\"_parent\"><img src=\"https://colab.research.google.com/assets/colab-badge.svg\" alt=\"Open In Colab\"/></a>"
      ]
    },
    {
      "cell_type": "code",
      "execution_count": null,
      "metadata": {
        "id": "53xmOclXwDsj"
      },
      "outputs": [],
      "source": [
        "import random\n",
        "\n",
        "Minimum = 1\n",
        "Maximum = 9\n",
        "Number = random.randint(Minimum, Maximum)\n",
        "Guess = None\n",
        "Try = 0\n",
        "Running = True\n",
        "\n",
        "print(\"Alright...\")\n",
        "\n",
        "while Running:\n",
        "    Guess= int raw_input(\"What is your lucky number? \")\n",
        "    if int(Guess)<Number:\n",
        "        print(\"Wrong, too low.\")\n",
        "    elif int(Guess) > Number:\n",
        "        print(\"Wrong, too high\")\n",
        "    elif Guess.lower() == \"exit\":\n",
        "        print(\"Better luck next time.\")\n",
        "    elif int(Guess) == Number:\n",
        "        print(\"Yes, that's the one, %s.\" %str(Number))\n",
        "        if Try<2:\n",
        "            print(\"Impressive, only %s tries.\"%str(Try))\n",
        "        elif Try<2 and Try<10:\n",
        "            print(\"Pretty good, %s tries.\" %str(Try))\n",
        "        elif Try>2 and Try<10:\n",
        "            print(\"Pretty good, %s tries.\"%str (Try))\n",
        "        else:\n",
        "            print(\"Bad, %s tries.\"%str(Try))\n",
        "        Running=False\n",
        "    Try+=1"
      ]
    }
  ]
}