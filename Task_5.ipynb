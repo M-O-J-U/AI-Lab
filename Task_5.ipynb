{
  "nbformat": 4,
  "nbformat_minor": 0,
  "metadata": {
    "colab": {
      "provenance": [],
      "authorship_tag": "ABX9TyPsieGFoli10+EbNPWz8NbF",
      "include_colab_link": true
    },
    "kernelspec": {
      "name": "python3",
      "display_name": "Python 3"
    },
    "language_info": {
      "name": "python"
    }
  },
  "cells": [
    {
      "cell_type": "markdown",
      "metadata": {
        "id": "view-in-github",
        "colab_type": "text"
      },
      "source": [
        "<a href=\"https://colab.research.google.com/github/miankhan143/AI-Lab/blob/main/Task_5.ipynb\" target=\"_parent\"><img src=\"https://colab.research.google.com/assets/colab-badge.svg\" alt=\"Open In Colab\"/></a>"
      ]
    },
    {
      "cell_type": "code",
      "execution_count": 2,
      "metadata": {
        "colab": {
          "base_uri": "https://localhost:8080/"
        },
        "id": "jwpdmJtd3FVo",
        "outputId": "bf34b89c-4767-43a3-ec79-5fa888510a89"
      },
      "outputs": [
        {
          "output_type": "stream",
          "name": "stdout",
          "text": [
            "number for checking grade83\n",
            "B\n"
          ]
        }
      ],
      "source": [
        "n=int(input(\"number for checking grade\"))\n",
        "if (n<0 and n>100):\n",
        "    print(\"the number enter is out of bound\")\n",
        "elif (n)<50:\n",
        "    print(\"F\")\n",
        "elif (n)>=50 and (n)<=60:\n",
        "    print(\"E\")  \n",
        "elif (n)>=61 and (n)<=70:\n",
        "    print(\"D\")\n",
        "elif (n)>=71 and (n)<=80:\n",
        "    print(\"C\")\n",
        "elif (n)>=81 and (n)<=90:\n",
        "    print(\"B\")\n",
        "elif (n)>=91 and (n)<=100:\n",
        "    print(\"A\")"
      ]
    }
  ]
}