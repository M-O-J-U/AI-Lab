{
  "nbformat": 4,
  "nbformat_minor": 0,
  "metadata": {
    "colab": {
      "provenance": [],
      "authorship_tag": "ABX9TyOcK6k9RCogoxVoJYRpN2T8",
      "include_colab_link": true
    },
    "kernelspec": {
      "name": "python3",
      "display_name": "Python 3"
    },
    "language_info": {
      "name": "python"
    }
  },
  "cells": [
    {
      "cell_type": "markdown",
      "metadata": {
        "id": "view-in-github",
        "colab_type": "text"
      },
      "source": [
        "<a href=\"https://colab.research.google.com/github/miankhan143/AI-Lab/blob/main/Activity4.ipynb\" target=\"_parent\"><img src=\"https://colab.research.google.com/assets/colab-badge.svg\" alt=\"Open In Colab\"/></a>"
      ]
    },
    {
      "cell_type": "code",
      "execution_count": 1,
      "metadata": {
        "colab": {
          "base_uri": "https://localhost:8080/"
        },
        "id": "zgl-xvNquGFT",
        "outputId": "313c694d-f42a-406e-e31b-e454428cdcdd"
      },
      "outputs": [
        {
          "output_type": "stream",
          "name": "stdout",
          "text": [
            "Enter a number4\n",
            "Enter a number2\n",
            "Enter a number6\n",
            "Enter a number5\n",
            "Enter a number4\n",
            "sum is  21\n"
          ]
        }
      ],
      "source": [
        "sum=0\n",
        "i=0\n",
        "while i<=4:\n",
        "    s=input(\"Enter a number\")\n",
        "    n=int(s)\n",
        "    sum=sum+n\n",
        "    i=i+1\n",
        "print(\"sum is \",sum)"
      ]
    }
  ]
}