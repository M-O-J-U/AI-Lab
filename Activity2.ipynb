{
  "nbformat": 4,
  "nbformat_minor": 0,
  "metadata": {
    "colab": {
      "provenance": [],
      "authorship_tag": "ABX9TyPCQIj663Ec5famz5gtGkaN",
      "include_colab_link": true
    },
    "kernelspec": {
      "name": "python3",
      "display_name": "Python 3"
    },
    "language_info": {
      "name": "python"
    }
  },
  "cells": [
    {
      "cell_type": "markdown",
      "metadata": {
        "id": "view-in-github",
        "colab_type": "text"
      },
      "source": [
        "<a href=\"https://colab.research.google.com/github/miankhan143/AI-Lab/blob/main/Activity2.ipynb\" target=\"_parent\"><img src=\"https://colab.research.google.com/assets/colab-badge.svg\" alt=\"Open In Colab\"/></a>"
      ]
    },
    {
      "cell_type": "code",
      "execution_count": null,
      "metadata": {
        "id": "acuNh4mVaAQ7"
      },
      "outputs": [],
      "source": [
        "sum = 0\n",
        "s=input(\"Enter an integer value: \")\n",
        "n=int(s)\n",
        "while n!=0:\n",
        "    sum=sum+n\n",
        "    s=input(\"Enter an integer value: \")\n",
        "    n=int(s)\n",
        "print(\"Sum of given value is \",sum)"
      ]
    }
  ]
}