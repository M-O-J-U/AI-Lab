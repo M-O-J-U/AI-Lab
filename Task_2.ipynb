{
  "nbformat": 4,
  "nbformat_minor": 0,
  "metadata": {
    "colab": {
      "provenance": [],
      "authorship_tag": "ABX9TyPcWNf3nxnH4DuYQudnHgVV",
      "include_colab_link": true
    },
    "kernelspec": {
      "name": "python3",
      "display_name": "Python 3"
    },
    "language_info": {
      "name": "python"
    }
  },
  "cells": [
    {
      "cell_type": "markdown",
      "metadata": {
        "id": "view-in-github",
        "colab_type": "text"
      },
      "source": [
        "<a href=\"https://colab.research.google.com/github/miankhan143/AI-Lab/blob/main/Task_2.ipynb\" target=\"_parent\"><img src=\"https://colab.research.google.com/assets/colab-badge.svg\" alt=\"Open In Colab\"/></a>"
      ]
    },
    {
      "cell_type": "code",
      "execution_count": null,
      "metadata": {
        "id": "hi0-XVTn3U2E"
      },
      "outputs": [],
      "source": [
        "#factorial\n",
        "num = int(input(\"Enter a number\"))\n",
        "factorial = 1\n",
        "if num<0:\n",
        "    print(\"No factorial Exists\")\n",
        "elif num ==0:\n",
        "    print(\"The factorial of zero is 1\")\n",
        "else:\n",
        "    for i in range(1,num+1):\n",
        "        factorial = factorial*i\n",
        "    print(\"The factorial of \",num,\" is \",factorial)"
      ]
    }
  ]
}