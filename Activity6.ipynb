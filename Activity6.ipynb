{
  "nbformat": 4,
  "nbformat_minor": 0,
  "metadata": {
    "colab": {
      "provenance": [],
      "authorship_tag": "ABX9TyMzy/U75qcYbkUw1VtRjGqi",
      "include_colab_link": true
    },
    "kernelspec": {
      "name": "python3",
      "display_name": "Python 3"
    },
    "language_info": {
      "name": "python"
    }
  },
  "cells": [
    {
      "cell_type": "markdown",
      "metadata": {
        "id": "view-in-github",
        "colab_type": "text"
      },
      "source": [
        "<a href=\"https://colab.research.google.com/github/miankhan143/AI-Lab/blob/main/Activity6.ipynb\" target=\"_parent\"><img src=\"https://colab.research.google.com/assets/colab-badge.svg\" alt=\"Open In Colab\"/></a>"
      ]
    },
    {
      "cell_type": "code",
      "execution_count": null,
      "metadata": {
        "id": "SEAhz-iuv2iR"
      },
      "outputs": [],
      "source": [
        "name = input(\"What is your name?\")\n",
        "print(\"Hello \"+name)\n",
        "\n",
        "job = input(\"What is your job?\")\n",
        "print(\"Your job is \"+job)\n",
        "\n",
        "num = input(\"Give me your number\")\n",
        "print(\"You said: \"+str(num))"
      ]
    }
  ]
}